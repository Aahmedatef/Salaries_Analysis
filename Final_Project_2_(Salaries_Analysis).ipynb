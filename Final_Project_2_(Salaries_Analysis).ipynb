{
 "cells": [
  {
   "cell_type": "markdown",
   "metadata": {
    "id": "-5Jq8OxEKmhK"
   },
   "source": [
    "![download.png](data:image/png;base64,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)"
   ]
  },
  {
   "cell_type": "markdown",
   "metadata": {
    "id": "y7JdpxnBH65U"
   },
   "source": [
    "# *Data Anlaysis Final Project 2 (Salaries Analysis)*"
   ]
  },
  {
   "cell_type": "markdown",
   "metadata": {
    "id": "a9Y4r5DXH65W"
   },
   "source": [
    "## Today's Outline\n",
    "- Full Data Analysis Case-study\n",
    "    - Salaries Analysis"
   ]
  },
  {
   "cell_type": "markdown",
   "metadata": {
    "id": "_BCtIWhMH65X"
   },
   "source": [
    "## Case-study: Salaries EDA"
   ]
  },
  {
   "cell_type": "markdown",
   "metadata": {
    "id": "vx8pS9JSH65Y"
   },
   "source": [
    "This dataset can be found on Kaggle:\n",
    "https://www.kaggle.com/kaggle/sf-salaries"
   ]
  },
  {
   "cell_type": "markdown",
   "metadata": {
    "id": "nOJ8fYqNH65Y"
   },
   "source": [
    "#### Import pandas as pd"
   ]
  },
  {
   "cell_type": "code",
   "execution_count": 188,
   "metadata": {
    "id": "2bfDUFStKK58"
   },
   "outputs": [],
   "source": [
    "import numpy as np \n",
    "import pandas as pd \n",
    "import matplotlib.pyplot as plt \n",
    "import seaborn as sns "
   ]
  },
  {
   "cell_type": "markdown",
   "metadata": {
    "id": "PU1xRyaaH65Z"
   },
   "source": [
    "#### Read Salaries.csv as a dataframe"
   ]
  },
  {
   "cell_type": "code",
   "execution_count": 189,
   "metadata": {
    "id": "J-LNXbjcKLV8"
   },
   "outputs": [],
   "source": [
    "salaries = pd.read_csv('C:/Users/Ahmed/Downloads/Final Project 2/salaries.csv')"
   ]
  },
  {
   "cell_type": "markdown",
   "metadata": {
    "id": "GPLK4GOqH65a"
   },
   "source": [
    "#### Check the head of the DataFrame"
   ]
  },
  {
   "cell_type": "code",
   "execution_count": 190,
   "metadata": {
    "id": "PwHg-m8EKM2p"
   },
   "outputs": [
    {
     "data": {
      "text/html": [
       "<div>\n",
       "<style scoped>\n",
       "    .dataframe tbody tr th:only-of-type {\n",
       "        vertical-align: middle;\n",
       "    }\n",
       "\n",
       "    .dataframe tbody tr th {\n",
       "        vertical-align: top;\n",
       "    }\n",
       "\n",
       "    .dataframe thead th {\n",
       "        text-align: right;\n",
       "    }\n",
       "</style>\n",
       "<table border=\"1\" class=\"dataframe\">\n",
       "  <thead>\n",
       "    <tr style=\"text-align: right;\">\n",
       "      <th></th>\n",
       "      <th>Id</th>\n",
       "      <th>EmployeeName</th>\n",
       "      <th>JobTitle</th>\n",
       "      <th>BasePay</th>\n",
       "      <th>OvertimePay</th>\n",
       "      <th>OtherPay</th>\n",
       "      <th>Benefits</th>\n",
       "      <th>TotalPay</th>\n",
       "      <th>TotalPayBenefits</th>\n",
       "      <th>Year</th>\n",
       "      <th>Notes</th>\n",
       "      <th>Agency</th>\n",
       "      <th>Status</th>\n",
       "    </tr>\n",
       "  </thead>\n",
       "  <tbody>\n",
       "    <tr>\n",
       "      <th>0</th>\n",
       "      <td>1</td>\n",
       "      <td>NATHANIEL FORD</td>\n",
       "      <td>GENERAL MANAGER-METROPOLITAN TRANSIT AUTHORITY</td>\n",
       "      <td>167411.18</td>\n",
       "      <td>0.00</td>\n",
       "      <td>400184.25</td>\n",
       "      <td>NaN</td>\n",
       "      <td>567595.43</td>\n",
       "      <td>567595.43</td>\n",
       "      <td>2011</td>\n",
       "      <td>NaN</td>\n",
       "      <td>San Francisco</td>\n",
       "      <td>NaN</td>\n",
       "    </tr>\n",
       "    <tr>\n",
       "      <th>1</th>\n",
       "      <td>2</td>\n",
       "      <td>GARY JIMENEZ</td>\n",
       "      <td>CAPTAIN III (POLICE DEPARTMENT)</td>\n",
       "      <td>155966.02</td>\n",
       "      <td>245131.88</td>\n",
       "      <td>137811.38</td>\n",
       "      <td>NaN</td>\n",
       "      <td>538909.28</td>\n",
       "      <td>538909.28</td>\n",
       "      <td>2011</td>\n",
       "      <td>NaN</td>\n",
       "      <td>San Francisco</td>\n",
       "      <td>NaN</td>\n",
       "    </tr>\n",
       "    <tr>\n",
       "      <th>2</th>\n",
       "      <td>3</td>\n",
       "      <td>ALBERT PARDINI</td>\n",
       "      <td>CAPTAIN III (POLICE DEPARTMENT)</td>\n",
       "      <td>212739.13</td>\n",
       "      <td>106088.18</td>\n",
       "      <td>16452.60</td>\n",
       "      <td>NaN</td>\n",
       "      <td>335279.91</td>\n",
       "      <td>335279.91</td>\n",
       "      <td>2011</td>\n",
       "      <td>NaN</td>\n",
       "      <td>San Francisco</td>\n",
       "      <td>NaN</td>\n",
       "    </tr>\n",
       "    <tr>\n",
       "      <th>3</th>\n",
       "      <td>4</td>\n",
       "      <td>CHRISTOPHER CHONG</td>\n",
       "      <td>WIRE ROPE CABLE MAINTENANCE MECHANIC</td>\n",
       "      <td>77916.00</td>\n",
       "      <td>56120.71</td>\n",
       "      <td>198306.90</td>\n",
       "      <td>NaN</td>\n",
       "      <td>332343.61</td>\n",
       "      <td>332343.61</td>\n",
       "      <td>2011</td>\n",
       "      <td>NaN</td>\n",
       "      <td>San Francisco</td>\n",
       "      <td>NaN</td>\n",
       "    </tr>\n",
       "    <tr>\n",
       "      <th>4</th>\n",
       "      <td>5</td>\n",
       "      <td>PATRICK GARDNER</td>\n",
       "      <td>DEPUTY CHIEF OF DEPARTMENT,(FIRE DEPARTMENT)</td>\n",
       "      <td>134401.60</td>\n",
       "      <td>9737.00</td>\n",
       "      <td>182234.59</td>\n",
       "      <td>NaN</td>\n",
       "      <td>326373.19</td>\n",
       "      <td>326373.19</td>\n",
       "      <td>2011</td>\n",
       "      <td>NaN</td>\n",
       "      <td>San Francisco</td>\n",
       "      <td>NaN</td>\n",
       "    </tr>\n",
       "  </tbody>\n",
       "</table>\n",
       "</div>"
      ],
      "text/plain": [
       "   Id       EmployeeName                                        JobTitle  \\\n",
       "0   1     NATHANIEL FORD  GENERAL MANAGER-METROPOLITAN TRANSIT AUTHORITY   \n",
       "1   2       GARY JIMENEZ                 CAPTAIN III (POLICE DEPARTMENT)   \n",
       "2   3     ALBERT PARDINI                 CAPTAIN III (POLICE DEPARTMENT)   \n",
       "3   4  CHRISTOPHER CHONG            WIRE ROPE CABLE MAINTENANCE MECHANIC   \n",
       "4   5    PATRICK GARDNER    DEPUTY CHIEF OF DEPARTMENT,(FIRE DEPARTMENT)   \n",
       "\n",
       "     BasePay  OvertimePay   OtherPay  Benefits   TotalPay  TotalPayBenefits  \\\n",
       "0  167411.18         0.00  400184.25       NaN  567595.43         567595.43   \n",
       "1  155966.02    245131.88  137811.38       NaN  538909.28         538909.28   \n",
       "2  212739.13    106088.18   16452.60       NaN  335279.91         335279.91   \n",
       "3   77916.00     56120.71  198306.90       NaN  332343.61         332343.61   \n",
       "4  134401.60      9737.00  182234.59       NaN  326373.19         326373.19   \n",
       "\n",
       "   Year  Notes         Agency  Status  \n",
       "0  2011    NaN  San Francisco     NaN  \n",
       "1  2011    NaN  San Francisco     NaN  \n",
       "2  2011    NaN  San Francisco     NaN  \n",
       "3  2011    NaN  San Francisco     NaN  \n",
       "4  2011    NaN  San Francisco     NaN  "
      ]
     },
     "execution_count": 190,
     "metadata": {},
     "output_type": "execute_result"
    }
   ],
   "source": [
    "salaries.head()"
   ]
  },
  {
   "cell_type": "markdown",
   "metadata": {
    "id": "7BQe-piFH65b"
   },
   "source": [
    "#### Use the .info() method to find out how many entries there are"
   ]
  },
  {
   "cell_type": "code",
   "execution_count": 191,
   "metadata": {
    "id": "q4sS9oVQKN6r"
   },
   "outputs": [
    {
     "name": "stdout",
     "output_type": "stream",
     "text": [
      "<class 'pandas.core.frame.DataFrame'>\n",
      "RangeIndex: 148654 entries, 0 to 148653\n",
      "Data columns (total 13 columns):\n",
      " #   Column            Non-Null Count   Dtype  \n",
      "---  ------            --------------   -----  \n",
      " 0   Id                148654 non-null  int64  \n",
      " 1   EmployeeName      148654 non-null  object \n",
      " 2   JobTitle          148654 non-null  object \n",
      " 3   BasePay           148045 non-null  float64\n",
      " 4   OvertimePay       148650 non-null  float64\n",
      " 5   OtherPay          148650 non-null  float64\n",
      " 6   Benefits          112491 non-null  float64\n",
      " 7   TotalPay          148654 non-null  float64\n",
      " 8   TotalPayBenefits  148654 non-null  float64\n",
      " 9   Year              148654 non-null  int64  \n",
      " 10  Notes             0 non-null       float64\n",
      " 11  Agency            148654 non-null  object \n",
      " 12  Status            0 non-null       float64\n",
      "dtypes: float64(8), int64(2), object(3)\n",
      "memory usage: 14.7+ MB\n"
     ]
    }
   ],
   "source": [
    "salaries.info()"
   ]
  },
  {
   "cell_type": "markdown",
   "metadata": {},
   "source": [
    "##### Missing value "
   ]
  },
  {
   "cell_type": "code",
   "execution_count": 192,
   "metadata": {},
   "outputs": [
    {
     "data": {
      "text/plain": [
       "Id                       0\n",
       "EmployeeName             0\n",
       "JobTitle                 0\n",
       "BasePay                609\n",
       "OvertimePay              4\n",
       "OtherPay                 4\n",
       "Benefits             36163\n",
       "TotalPay                 0\n",
       "TotalPayBenefits         0\n",
       "Year                     0\n",
       "Notes               148654\n",
       "Agency                   0\n",
       "Status              148654\n",
       "dtype: int64"
      ]
     },
     "execution_count": 192,
     "metadata": {},
     "output_type": "execute_result"
    }
   ],
   "source": [
    "salaries.isna().sum()"
   ]
  },
  {
   "cell_type": "code",
   "execution_count": 193,
   "metadata": {},
   "outputs": [],
   "source": [
    "salaries.drop(['Notes','Status'],axis=1,inplace=True)"
   ]
  },
  {
   "cell_type": "code",
   "execution_count": 194,
   "metadata": {},
   "outputs": [
    {
     "data": {
      "text/html": [
       "<div>\n",
       "<style scoped>\n",
       "    .dataframe tbody tr th:only-of-type {\n",
       "        vertical-align: middle;\n",
       "    }\n",
       "\n",
       "    .dataframe tbody tr th {\n",
       "        vertical-align: top;\n",
       "    }\n",
       "\n",
       "    .dataframe thead th {\n",
       "        text-align: right;\n",
       "    }\n",
       "</style>\n",
       "<table border=\"1\" class=\"dataframe\">\n",
       "  <thead>\n",
       "    <tr style=\"text-align: right;\">\n",
       "      <th></th>\n",
       "      <th>Id</th>\n",
       "      <th>EmployeeName</th>\n",
       "      <th>JobTitle</th>\n",
       "      <th>BasePay</th>\n",
       "      <th>OvertimePay</th>\n",
       "      <th>OtherPay</th>\n",
       "      <th>Benefits</th>\n",
       "      <th>TotalPay</th>\n",
       "      <th>TotalPayBenefits</th>\n",
       "      <th>Year</th>\n",
       "      <th>Agency</th>\n",
       "    </tr>\n",
       "  </thead>\n",
       "  <tbody>\n",
       "    <tr>\n",
       "      <th>0</th>\n",
       "      <td>1</td>\n",
       "      <td>NATHANIEL FORD</td>\n",
       "      <td>GENERAL MANAGER-METROPOLITAN TRANSIT AUTHORITY</td>\n",
       "      <td>167411.18</td>\n",
       "      <td>0.00</td>\n",
       "      <td>400184.25</td>\n",
       "      <td>NaN</td>\n",
       "      <td>567595.43</td>\n",
       "      <td>567595.43</td>\n",
       "      <td>2011</td>\n",
       "      <td>San Francisco</td>\n",
       "    </tr>\n",
       "    <tr>\n",
       "      <th>1</th>\n",
       "      <td>2</td>\n",
       "      <td>GARY JIMENEZ</td>\n",
       "      <td>CAPTAIN III (POLICE DEPARTMENT)</td>\n",
       "      <td>155966.02</td>\n",
       "      <td>245131.88</td>\n",
       "      <td>137811.38</td>\n",
       "      <td>NaN</td>\n",
       "      <td>538909.28</td>\n",
       "      <td>538909.28</td>\n",
       "      <td>2011</td>\n",
       "      <td>San Francisco</td>\n",
       "    </tr>\n",
       "    <tr>\n",
       "      <th>2</th>\n",
       "      <td>3</td>\n",
       "      <td>ALBERT PARDINI</td>\n",
       "      <td>CAPTAIN III (POLICE DEPARTMENT)</td>\n",
       "      <td>212739.13</td>\n",
       "      <td>106088.18</td>\n",
       "      <td>16452.60</td>\n",
       "      <td>NaN</td>\n",
       "      <td>335279.91</td>\n",
       "      <td>335279.91</td>\n",
       "      <td>2011</td>\n",
       "      <td>San Francisco</td>\n",
       "    </tr>\n",
       "    <tr>\n",
       "      <th>3</th>\n",
       "      <td>4</td>\n",
       "      <td>CHRISTOPHER CHONG</td>\n",
       "      <td>WIRE ROPE CABLE MAINTENANCE MECHANIC</td>\n",
       "      <td>77916.00</td>\n",
       "      <td>56120.71</td>\n",
       "      <td>198306.90</td>\n",
       "      <td>NaN</td>\n",
       "      <td>332343.61</td>\n",
       "      <td>332343.61</td>\n",
       "      <td>2011</td>\n",
       "      <td>San Francisco</td>\n",
       "    </tr>\n",
       "    <tr>\n",
       "      <th>4</th>\n",
       "      <td>5</td>\n",
       "      <td>PATRICK GARDNER</td>\n",
       "      <td>DEPUTY CHIEF OF DEPARTMENT,(FIRE DEPARTMENT)</td>\n",
       "      <td>134401.60</td>\n",
       "      <td>9737.00</td>\n",
       "      <td>182234.59</td>\n",
       "      <td>NaN</td>\n",
       "      <td>326373.19</td>\n",
       "      <td>326373.19</td>\n",
       "      <td>2011</td>\n",
       "      <td>San Francisco</td>\n",
       "    </tr>\n",
       "    <tr>\n",
       "      <th>...</th>\n",
       "      <td>...</td>\n",
       "      <td>...</td>\n",
       "      <td>...</td>\n",
       "      <td>...</td>\n",
       "      <td>...</td>\n",
       "      <td>...</td>\n",
       "      <td>...</td>\n",
       "      <td>...</td>\n",
       "      <td>...</td>\n",
       "      <td>...</td>\n",
       "      <td>...</td>\n",
       "    </tr>\n",
       "    <tr>\n",
       "      <th>148649</th>\n",
       "      <td>148650</td>\n",
       "      <td>Roy I Tillery</td>\n",
       "      <td>Custodian</td>\n",
       "      <td>0.00</td>\n",
       "      <td>0.00</td>\n",
       "      <td>0.00</td>\n",
       "      <td>0.0</td>\n",
       "      <td>0.00</td>\n",
       "      <td>0.00</td>\n",
       "      <td>2014</td>\n",
       "      <td>San Francisco</td>\n",
       "    </tr>\n",
       "    <tr>\n",
       "      <th>148650</th>\n",
       "      <td>148651</td>\n",
       "      <td>Not provided</td>\n",
       "      <td>Not provided</td>\n",
       "      <td>NaN</td>\n",
       "      <td>NaN</td>\n",
       "      <td>NaN</td>\n",
       "      <td>NaN</td>\n",
       "      <td>0.00</td>\n",
       "      <td>0.00</td>\n",
       "      <td>2014</td>\n",
       "      <td>San Francisco</td>\n",
       "    </tr>\n",
       "    <tr>\n",
       "      <th>148651</th>\n",
       "      <td>148652</td>\n",
       "      <td>Not provided</td>\n",
       "      <td>Not provided</td>\n",
       "      <td>NaN</td>\n",
       "      <td>NaN</td>\n",
       "      <td>NaN</td>\n",
       "      <td>NaN</td>\n",
       "      <td>0.00</td>\n",
       "      <td>0.00</td>\n",
       "      <td>2014</td>\n",
       "      <td>San Francisco</td>\n",
       "    </tr>\n",
       "    <tr>\n",
       "      <th>148652</th>\n",
       "      <td>148653</td>\n",
       "      <td>Not provided</td>\n",
       "      <td>Not provided</td>\n",
       "      <td>NaN</td>\n",
       "      <td>NaN</td>\n",
       "      <td>NaN</td>\n",
       "      <td>NaN</td>\n",
       "      <td>0.00</td>\n",
       "      <td>0.00</td>\n",
       "      <td>2014</td>\n",
       "      <td>San Francisco</td>\n",
       "    </tr>\n",
       "    <tr>\n",
       "      <th>148653</th>\n",
       "      <td>148654</td>\n",
       "      <td>Joe Lopez</td>\n",
       "      <td>Counselor, Log Cabin Ranch</td>\n",
       "      <td>0.00</td>\n",
       "      <td>0.00</td>\n",
       "      <td>-618.13</td>\n",
       "      <td>0.0</td>\n",
       "      <td>-618.13</td>\n",
       "      <td>-618.13</td>\n",
       "      <td>2014</td>\n",
       "      <td>San Francisco</td>\n",
       "    </tr>\n",
       "  </tbody>\n",
       "</table>\n",
       "<p>148654 rows × 11 columns</p>\n",
       "</div>"
      ],
      "text/plain": [
       "            Id       EmployeeName  \\\n",
       "0            1     NATHANIEL FORD   \n",
       "1            2       GARY JIMENEZ   \n",
       "2            3     ALBERT PARDINI   \n",
       "3            4  CHRISTOPHER CHONG   \n",
       "4            5    PATRICK GARDNER   \n",
       "...        ...                ...   \n",
       "148649  148650      Roy I Tillery   \n",
       "148650  148651       Not provided   \n",
       "148651  148652       Not provided   \n",
       "148652  148653       Not provided   \n",
       "148653  148654          Joe Lopez   \n",
       "\n",
       "                                              JobTitle    BasePay  \\\n",
       "0       GENERAL MANAGER-METROPOLITAN TRANSIT AUTHORITY  167411.18   \n",
       "1                      CAPTAIN III (POLICE DEPARTMENT)  155966.02   \n",
       "2                      CAPTAIN III (POLICE DEPARTMENT)  212739.13   \n",
       "3                 WIRE ROPE CABLE MAINTENANCE MECHANIC   77916.00   \n",
       "4         DEPUTY CHIEF OF DEPARTMENT,(FIRE DEPARTMENT)  134401.60   \n",
       "...                                                ...        ...   \n",
       "148649                                       Custodian       0.00   \n",
       "148650                                    Not provided        NaN   \n",
       "148651                                    Not provided        NaN   \n",
       "148652                                    Not provided        NaN   \n",
       "148653                      Counselor, Log Cabin Ranch       0.00   \n",
       "\n",
       "        OvertimePay   OtherPay  Benefits   TotalPay  TotalPayBenefits  Year  \\\n",
       "0              0.00  400184.25       NaN  567595.43         567595.43  2011   \n",
       "1         245131.88  137811.38       NaN  538909.28         538909.28  2011   \n",
       "2         106088.18   16452.60       NaN  335279.91         335279.91  2011   \n",
       "3          56120.71  198306.90       NaN  332343.61         332343.61  2011   \n",
       "4           9737.00  182234.59       NaN  326373.19         326373.19  2011   \n",
       "...             ...        ...       ...        ...               ...   ...   \n",
       "148649         0.00       0.00       0.0       0.00              0.00  2014   \n",
       "148650          NaN        NaN       NaN       0.00              0.00  2014   \n",
       "148651          NaN        NaN       NaN       0.00              0.00  2014   \n",
       "148652          NaN        NaN       NaN       0.00              0.00  2014   \n",
       "148653         0.00    -618.13       0.0    -618.13           -618.13  2014   \n",
       "\n",
       "               Agency  \n",
       "0       San Francisco  \n",
       "1       San Francisco  \n",
       "2       San Francisco  \n",
       "3       San Francisco  \n",
       "4       San Francisco  \n",
       "...               ...  \n",
       "148649  San Francisco  \n",
       "148650  San Francisco  \n",
       "148651  San Francisco  \n",
       "148652  San Francisco  \n",
       "148653  San Francisco  \n",
       "\n",
       "[148654 rows x 11 columns]"
      ]
     },
     "execution_count": 194,
     "metadata": {},
     "output_type": "execute_result"
    }
   ],
   "source": [
    "salaries"
   ]
  },
  {
   "cell_type": "code",
   "execution_count": 195,
   "metadata": {},
   "outputs": [],
   "source": [
    "salaries['Benefits'].fillna(0,inplace=True)"
   ]
  },
  {
   "cell_type": "code",
   "execution_count": 197,
   "metadata": {},
   "outputs": [],
   "source": [
    "salaries['BasePay'].fillna(0,inplace=True)"
   ]
  },
  {
   "cell_type": "code",
   "execution_count": 199,
   "metadata": {},
   "outputs": [
    {
     "data": {
      "text/plain": [
       "Id                  0\n",
       "EmployeeName        0\n",
       "JobTitle            0\n",
       "BasePay             0\n",
       "OvertimePay         4\n",
       "OtherPay            4\n",
       "Benefits            0\n",
       "TotalPay            0\n",
       "TotalPayBenefits    0\n",
       "Year                0\n",
       "Agency              0\n",
       "dtype: int64"
      ]
     },
     "execution_count": 199,
     "metadata": {},
     "output_type": "execute_result"
    }
   ],
   "source": [
    "salaries.isna().sum()"
   ]
  },
  {
   "cell_type": "code",
   "execution_count": 218,
   "metadata": {},
   "outputs": [],
   "source": [
    "salaries.dropna(inplace=True)"
   ]
  },
  {
   "cell_type": "code",
   "execution_count": 219,
   "metadata": {},
   "outputs": [
    {
     "data": {
      "text/plain": [
       "Id                  0\n",
       "EmployeeName        0\n",
       "JobTitle            0\n",
       "BasePay             0\n",
       "OvertimePay         0\n",
       "OtherPay            0\n",
       "Benefits            0\n",
       "TotalPay            0\n",
       "TotalPayBenefits    0\n",
       "Year                0\n",
       "Agency              0\n",
       "dtype: int64"
      ]
     },
     "execution_count": 219,
     "metadata": {},
     "output_type": "execute_result"
    }
   ],
   "source": [
    "salaries.isna().sum()"
   ]
  },
  {
   "cell_type": "code",
   "execution_count": 200,
   "metadata": {},
   "outputs": [
    {
     "data": {
      "text/plain": [
       "0"
      ]
     },
     "execution_count": 200,
     "metadata": {},
     "output_type": "execute_result"
    }
   ],
   "source": [
    "salaries.duplicated().sum()"
   ]
  },
  {
   "cell_type": "code",
   "execution_count": 201,
   "metadata": {},
   "outputs": [
    {
     "data": {
      "text/html": [
       "<div>\n",
       "<style scoped>\n",
       "    .dataframe tbody tr th:only-of-type {\n",
       "        vertical-align: middle;\n",
       "    }\n",
       "\n",
       "    .dataframe tbody tr th {\n",
       "        vertical-align: top;\n",
       "    }\n",
       "\n",
       "    .dataframe thead th {\n",
       "        text-align: right;\n",
       "    }\n",
       "</style>\n",
       "<table border=\"1\" class=\"dataframe\">\n",
       "  <thead>\n",
       "    <tr style=\"text-align: right;\">\n",
       "      <th></th>\n",
       "      <th>Id</th>\n",
       "      <th>BasePay</th>\n",
       "      <th>OvertimePay</th>\n",
       "      <th>OtherPay</th>\n",
       "      <th>Benefits</th>\n",
       "      <th>TotalPay</th>\n",
       "      <th>TotalPayBenefits</th>\n",
       "      <th>Year</th>\n",
       "    </tr>\n",
       "  </thead>\n",
       "  <tbody>\n",
       "    <tr>\n",
       "      <th>count</th>\n",
       "      <td>148654.00</td>\n",
       "      <td>148654.00</td>\n",
       "      <td>148650.00</td>\n",
       "      <td>148650.00</td>\n",
       "      <td>148654.00</td>\n",
       "      <td>148654.00</td>\n",
       "      <td>148654.00</td>\n",
       "      <td>148654.00</td>\n",
       "    </tr>\n",
       "    <tr>\n",
       "      <th>mean</th>\n",
       "      <td>74327.50</td>\n",
       "      <td>66053.73</td>\n",
       "      <td>5066.06</td>\n",
       "      <td>3648.77</td>\n",
       "      <td>18924.23</td>\n",
       "      <td>74768.32</td>\n",
       "      <td>93692.55</td>\n",
       "      <td>2012.52</td>\n",
       "    </tr>\n",
       "    <tr>\n",
       "      <th>std</th>\n",
       "      <td>42912.86</td>\n",
       "      <td>42886.71</td>\n",
       "      <td>11454.38</td>\n",
       "      <td>8056.60</td>\n",
       "      <td>17165.28</td>\n",
       "      <td>50517.01</td>\n",
       "      <td>62793.53</td>\n",
       "      <td>1.12</td>\n",
       "    </tr>\n",
       "    <tr>\n",
       "      <th>min</th>\n",
       "      <td>1.00</td>\n",
       "      <td>-166.01</td>\n",
       "      <td>-0.01</td>\n",
       "      <td>-7058.59</td>\n",
       "      <td>-33.89</td>\n",
       "      <td>-618.13</td>\n",
       "      <td>-618.13</td>\n",
       "      <td>2011.00</td>\n",
       "    </tr>\n",
       "    <tr>\n",
       "      <th>25%</th>\n",
       "      <td>37164.25</td>\n",
       "      <td>32792.54</td>\n",
       "      <td>0.00</td>\n",
       "      <td>0.00</td>\n",
       "      <td>0.00</td>\n",
       "      <td>36169.00</td>\n",
       "      <td>44065.65</td>\n",
       "      <td>2012.00</td>\n",
       "    </tr>\n",
       "    <tr>\n",
       "      <th>50%</th>\n",
       "      <td>74327.50</td>\n",
       "      <td>64861.60</td>\n",
       "      <td>0.00</td>\n",
       "      <td>811.27</td>\n",
       "      <td>23214.02</td>\n",
       "      <td>71426.61</td>\n",
       "      <td>92404.09</td>\n",
       "      <td>2013.00</td>\n",
       "    </tr>\n",
       "    <tr>\n",
       "      <th>75%</th>\n",
       "      <td>111490.75</td>\n",
       "      <td>94605.74</td>\n",
       "      <td>4658.18</td>\n",
       "      <td>4236.07</td>\n",
       "      <td>33468.98</td>\n",
       "      <td>105839.14</td>\n",
       "      <td>132876.45</td>\n",
       "      <td>2014.00</td>\n",
       "    </tr>\n",
       "    <tr>\n",
       "      <th>max</th>\n",
       "      <td>148654.00</td>\n",
       "      <td>319275.01</td>\n",
       "      <td>245131.88</td>\n",
       "      <td>400184.25</td>\n",
       "      <td>96570.66</td>\n",
       "      <td>567595.43</td>\n",
       "      <td>567595.43</td>\n",
       "      <td>2014.00</td>\n",
       "    </tr>\n",
       "  </tbody>\n",
       "</table>\n",
       "</div>"
      ],
      "text/plain": [
       "              Id    BasePay  OvertimePay   OtherPay   Benefits   TotalPay  \\\n",
       "count  148654.00  148654.00    148650.00  148650.00  148654.00  148654.00   \n",
       "mean    74327.50   66053.73      5066.06    3648.77   18924.23   74768.32   \n",
       "std     42912.86   42886.71     11454.38    8056.60   17165.28   50517.01   \n",
       "min         1.00    -166.01        -0.01   -7058.59     -33.89    -618.13   \n",
       "25%     37164.25   32792.54         0.00       0.00       0.00   36169.00   \n",
       "50%     74327.50   64861.60         0.00     811.27   23214.02   71426.61   \n",
       "75%    111490.75   94605.74      4658.18    4236.07   33468.98  105839.14   \n",
       "max    148654.00  319275.01    245131.88  400184.25   96570.66  567595.43   \n",
       "\n",
       "       TotalPayBenefits       Year  \n",
       "count         148654.00  148654.00  \n",
       "mean           93692.55    2012.52  \n",
       "std            62793.53       1.12  \n",
       "min             -618.13    2011.00  \n",
       "25%            44065.65    2012.00  \n",
       "50%            92404.09    2013.00  \n",
       "75%           132876.45    2014.00  \n",
       "max           567595.43    2014.00  "
      ]
     },
     "execution_count": 201,
     "metadata": {},
     "output_type": "execute_result"
    }
   ],
   "source": [
    "round(salaries.describe(),2)"
   ]
  },
  {
   "cell_type": "markdown",
   "metadata": {
    "id": "Deeof26HH65b"
   },
   "source": [
    "#### What is the average BasePay ?"
   ]
  },
  {
   "cell_type": "code",
   "execution_count": 202,
   "metadata": {
    "id": "KGhMcm44KOn3"
   },
   "outputs": [
    {
     "data": {
      "text/plain": [
       "66053.73"
      ]
     },
     "execution_count": 202,
     "metadata": {},
     "output_type": "execute_result"
    }
   ],
   "source": [
    "round(salaries['BasePay'].mean(),2)"
   ]
  },
  {
   "cell_type": "markdown",
   "metadata": {
    "id": "VYfcMaF1H65c"
   },
   "source": [
    "#### What is the highest amount of OvertimePay in the dataset ?"
   ]
  },
  {
   "cell_type": "code",
   "execution_count": 203,
   "metadata": {
    "id": "RpJ9xPFaKPr0"
   },
   "outputs": [
    {
     "data": {
      "text/plain": [
       "245131.88"
      ]
     },
     "execution_count": 203,
     "metadata": {},
     "output_type": "execute_result"
    }
   ],
   "source": [
    "salaries['OvertimePay'].max()"
   ]
  },
  {
   "cell_type": "markdown",
   "metadata": {
    "id": "IiSRPjLkH65c"
   },
   "source": [
    "#### What is the job title of JOSEPH DRISCOLL ? Note: Use all caps, otherwise you may get an answer that doesn't match up (there is also a lowercase Joseph Driscoll)."
   ]
  },
  {
   "cell_type": "code",
   "execution_count": 204,
   "metadata": {
    "id": "-B0cDlYHKQ87"
   },
   "outputs": [
    {
     "data": {
      "text/plain": [
       "24    CAPTAIN, FIRE SUPPRESSION\n",
       "Name: JobTitle, dtype: object"
      ]
     },
     "execution_count": 204,
     "metadata": {},
     "output_type": "execute_result"
    }
   ],
   "source": [
    "salaries[salaries['EmployeeName'] == 'JOSEPH DRISCOLL']['JobTitle']"
   ]
  },
  {
   "cell_type": "markdown",
   "metadata": {
    "id": "skYYWdaYH65c"
   },
   "source": [
    "#### How much does JOSEPH DRISCOLL make (including benefits)?"
   ]
  },
  {
   "cell_type": "code",
   "execution_count": 205,
   "metadata": {
    "id": "0XuxbpJ-KR1n"
   },
   "outputs": [
    {
     "data": {
      "text/plain": [
       "24    270324.91\n",
       "Name: TotalPayBenefits, dtype: float64"
      ]
     },
     "execution_count": 205,
     "metadata": {},
     "output_type": "execute_result"
    }
   ],
   "source": [
    "salaries[salaries['EmployeeName'] == 'JOSEPH DRISCOLL']['TotalPayBenefits']"
   ]
  },
  {
   "cell_type": "markdown",
   "metadata": {
    "id": "1lcR_G3yH65d"
   },
   "source": [
    "#### What is the name of highest paid person (including benefits)?"
   ]
  },
  {
   "cell_type": "code",
   "execution_count": 206,
   "metadata": {
    "id": "zmKHBR3QKS5l"
   },
   "outputs": [
    {
     "data": {
      "text/html": [
       "<div>\n",
       "<style scoped>\n",
       "    .dataframe tbody tr th:only-of-type {\n",
       "        vertical-align: middle;\n",
       "    }\n",
       "\n",
       "    .dataframe tbody tr th {\n",
       "        vertical-align: top;\n",
       "    }\n",
       "\n",
       "    .dataframe thead th {\n",
       "        text-align: right;\n",
       "    }\n",
       "</style>\n",
       "<table border=\"1\" class=\"dataframe\">\n",
       "  <thead>\n",
       "    <tr style=\"text-align: right;\">\n",
       "      <th></th>\n",
       "      <th>Id</th>\n",
       "      <th>EmployeeName</th>\n",
       "      <th>JobTitle</th>\n",
       "      <th>BasePay</th>\n",
       "      <th>OvertimePay</th>\n",
       "      <th>OtherPay</th>\n",
       "      <th>Benefits</th>\n",
       "      <th>TotalPay</th>\n",
       "      <th>TotalPayBenefits</th>\n",
       "      <th>Year</th>\n",
       "      <th>Agency</th>\n",
       "    </tr>\n",
       "  </thead>\n",
       "  <tbody>\n",
       "    <tr>\n",
       "      <th>0</th>\n",
       "      <td>1</td>\n",
       "      <td>NATHANIEL FORD</td>\n",
       "      <td>GENERAL MANAGER-METROPOLITAN TRANSIT AUTHORITY</td>\n",
       "      <td>167411.18</td>\n",
       "      <td>0.0</td>\n",
       "      <td>400184.25</td>\n",
       "      <td>0.0</td>\n",
       "      <td>567595.43</td>\n",
       "      <td>567595.43</td>\n",
       "      <td>2011</td>\n",
       "      <td>San Francisco</td>\n",
       "    </tr>\n",
       "  </tbody>\n",
       "</table>\n",
       "</div>"
      ],
      "text/plain": [
       "   Id    EmployeeName                                        JobTitle  \\\n",
       "0   1  NATHANIEL FORD  GENERAL MANAGER-METROPOLITAN TRANSIT AUTHORITY   \n",
       "\n",
       "     BasePay  OvertimePay   OtherPay  Benefits   TotalPay  TotalPayBenefits  \\\n",
       "0  167411.18          0.0  400184.25       0.0  567595.43         567595.43   \n",
       "\n",
       "   Year         Agency  \n",
       "0  2011  San Francisco  "
      ]
     },
     "execution_count": 206,
     "metadata": {},
     "output_type": "execute_result"
    }
   ],
   "source": [
    "salaries[salaries['TotalPayBenefits'] ==salaries['TotalPayBenefits'].max()]"
   ]
  },
  {
   "cell_type": "code",
   "execution_count": 207,
   "metadata": {},
   "outputs": [
    {
     "data": {
      "text/plain": [
       "0    NATHANIEL FORD\n",
       "Name: EmployeeName, dtype: object"
      ]
     },
     "execution_count": 207,
     "metadata": {},
     "output_type": "execute_result"
    }
   ],
   "source": [
    "salaries[salaries['TotalPayBenefits'] ==salaries['TotalPayBenefits'].max()]['EmployeeName']"
   ]
  },
  {
   "cell_type": "markdown",
   "metadata": {
    "id": "_71KugzLH65d"
   },
   "source": [
    "#### What is the name of lowest paid person (including benefits)? Do you notice something strange about how much he or she is paid?"
   ]
  },
  {
   "cell_type": "markdown",
   "metadata": {},
   "source": [
    "##### A negative result is unusual , Maybe a new worker damaged something or it could be Deduction from salary"
   ]
  },
  {
   "cell_type": "code",
   "execution_count": 208,
   "metadata": {
    "id": "HjQdg2opKTyI"
   },
   "outputs": [
    {
     "data": {
      "text/html": [
       "<div>\n",
       "<style scoped>\n",
       "    .dataframe tbody tr th:only-of-type {\n",
       "        vertical-align: middle;\n",
       "    }\n",
       "\n",
       "    .dataframe tbody tr th {\n",
       "        vertical-align: top;\n",
       "    }\n",
       "\n",
       "    .dataframe thead th {\n",
       "        text-align: right;\n",
       "    }\n",
       "</style>\n",
       "<table border=\"1\" class=\"dataframe\">\n",
       "  <thead>\n",
       "    <tr style=\"text-align: right;\">\n",
       "      <th></th>\n",
       "      <th>Id</th>\n",
       "      <th>EmployeeName</th>\n",
       "      <th>JobTitle</th>\n",
       "      <th>BasePay</th>\n",
       "      <th>OvertimePay</th>\n",
       "      <th>OtherPay</th>\n",
       "      <th>Benefits</th>\n",
       "      <th>TotalPay</th>\n",
       "      <th>TotalPayBenefits</th>\n",
       "      <th>Year</th>\n",
       "      <th>Agency</th>\n",
       "    </tr>\n",
       "  </thead>\n",
       "  <tbody>\n",
       "    <tr>\n",
       "      <th>148653</th>\n",
       "      <td>148654</td>\n",
       "      <td>Joe Lopez</td>\n",
       "      <td>Counselor, Log Cabin Ranch</td>\n",
       "      <td>0.0</td>\n",
       "      <td>0.0</td>\n",
       "      <td>-618.13</td>\n",
       "      <td>0.0</td>\n",
       "      <td>-618.13</td>\n",
       "      <td>-618.13</td>\n",
       "      <td>2014</td>\n",
       "      <td>San Francisco</td>\n",
       "    </tr>\n",
       "  </tbody>\n",
       "</table>\n",
       "</div>"
      ],
      "text/plain": [
       "            Id EmployeeName                    JobTitle  BasePay  OvertimePay  \\\n",
       "148653  148654    Joe Lopez  Counselor, Log Cabin Ranch      0.0          0.0   \n",
       "\n",
       "        OtherPay  Benefits  TotalPay  TotalPayBenefits  Year         Agency  \n",
       "148653   -618.13       0.0   -618.13           -618.13  2014  San Francisco  "
      ]
     },
     "execution_count": 208,
     "metadata": {},
     "output_type": "execute_result"
    }
   ],
   "source": [
    "salaries[salaries['TotalPayBenefits'] ==salaries['TotalPayBenefits'].min()]"
   ]
  },
  {
   "cell_type": "code",
   "execution_count": 209,
   "metadata": {},
   "outputs": [
    {
     "data": {
      "text/plain": [
       "148653    Joe Lopez\n",
       "Name: EmployeeName, dtype: object"
      ]
     },
     "execution_count": 209,
     "metadata": {},
     "output_type": "execute_result"
    }
   ],
   "source": [
    "salaries[salaries['TotalPayBenefits'] ==salaries['TotalPayBenefits'].min()]['EmployeeName']"
   ]
  },
  {
   "cell_type": "markdown",
   "metadata": {
    "id": "UBUYBqBFH65e"
   },
   "source": [
    "#### What was the average (mean) BasePay of all employees per year? (2011-2014) ?"
   ]
  },
  {
   "cell_type": "code",
   "execution_count": 210,
   "metadata": {
    "id": "BAVMwr4CKUsF"
   },
   "outputs": [
    {
     "data": {
      "text/plain": [
       "Year\n",
       "2011    63595.956517\n",
       "2012    65436.406857\n",
       "2013    68509.832156\n",
       "2014    66557.437750\n",
       "Name: BasePay, dtype: float64"
      ]
     },
     "execution_count": 210,
     "metadata": {},
     "output_type": "execute_result"
    }
   ],
   "source": [
    "salaries.groupby('Year')['BasePay'].mean()"
   ]
  },
  {
   "cell_type": "markdown",
   "metadata": {
    "id": "fbFQcnlRH65e"
   },
   "source": [
    "#### How many unique job titles are there?"
   ]
  },
  {
   "cell_type": "code",
   "execution_count": 211,
   "metadata": {
    "id": "XQdNgDiVKVbE"
   },
   "outputs": [
    {
     "data": {
      "text/plain": [
       "2159"
      ]
     },
     "execution_count": 211,
     "metadata": {},
     "output_type": "execute_result"
    }
   ],
   "source": [
    "salaries['JobTitle'].nunique()"
   ]
  },
  {
   "cell_type": "markdown",
   "metadata": {
    "id": "NGXeIxgrH65e"
   },
   "source": [
    "#### What are the top 5 most common jobs?"
   ]
  },
  {
   "cell_type": "code",
   "execution_count": 212,
   "metadata": {
    "id": "-hQ6MN9RKWJK"
   },
   "outputs": [
    {
     "data": {
      "text/plain": [
       "JobTitle\n",
       "Transit Operator                7036\n",
       "Special Nurse                   4389\n",
       "Registered Nurse                3736\n",
       "Public Svc Aide-Public Works    2518\n",
       "Police Officer 3                2421\n",
       "Name: count, dtype: int64"
      ]
     },
     "execution_count": 212,
     "metadata": {},
     "output_type": "execute_result"
    }
   ],
   "source": [
    "salaries['JobTitle'].value_counts().head()"
   ]
  },
  {
   "cell_type": "markdown",
   "metadata": {
    "id": "gihVrLl7H65f"
   },
   "source": [
    "#### How many Job Titles were represented by only one person in 2013? (e.g. Job Titles with only one occurence in 2013?)"
   ]
  },
  {
   "cell_type": "code",
   "execution_count": 213,
   "metadata": {
    "id": "Q3v4dqkgKW_1"
   },
   "outputs": [
    {
     "data": {
      "text/plain": [
       "202"
      ]
     },
     "execution_count": 213,
     "metadata": {},
     "output_type": "execute_result"
    }
   ],
   "source": [
    "salaries[salaries['Year'] == 2013]['JobTitle'].value_counts()[salaries[salaries['Year'] == 2013]['JobTitle'].value_counts() == 1].sum()"
   ]
  },
  {
   "cell_type": "markdown",
   "metadata": {
    "id": "0sKuIOH8H65f"
   },
   "source": [
    "#### How many people have the word Chief in their job title? (This is pretty tricky)"
   ]
  },
  {
   "cell_type": "code",
   "execution_count": 214,
   "metadata": {
    "id": "Zi8azFGWKX9k"
   },
   "outputs": [
    {
     "data": {
      "text/plain": [
       "627"
      ]
     },
     "execution_count": 214,
     "metadata": {},
     "output_type": "execute_result"
    }
   ],
   "source": [
    "chief_titles = salaries[salaries['JobTitle'].str.contains('Chief', case=False, na=False )]\n",
    "chief_titles['JobTitle'].value_counts().sum()"
   ]
  },
  {
   "cell_type": "markdown",
   "metadata": {
    "id": "arwQLrjvH65g"
   },
   "source": [
    "#### Bonus: Is there a correlation between length of the Job Title string and Salary?"
   ]
  },
  {
   "cell_type": "code",
   "execution_count": 231,
   "metadata": {
    "id": "tj-DSiubKZeq"
   },
   "outputs": [],
   "source": [
    "correlation = salaries['JobTitle'].apply(len).corr(salaries['BasePay'])"
   ]
  },
  {
   "cell_type": "code",
   "execution_count": 232,
   "metadata": {},
   "outputs": [
    {
     "data": {
      "text/plain": [
       "-0.005548589180305447"
      ]
     },
     "execution_count": 232,
     "metadata": {},
     "output_type": "execute_result"
    }
   ],
   "source": [
    "correlation"
   ]
  },
  {
   "cell_type": "markdown",
   "metadata": {
    "id": "JyPmqeorH65h"
   },
   "source": [
    "# GOOD LUCK!"
   ]
  }
 ],
 "metadata": {
  "colab": {
   "provenance": []
  },
  "kernelspec": {
   "display_name": "Python 3 (ipykernel)",
   "language": "python",
   "name": "python3"
  },
  "language_info": {
   "codemirror_mode": {
    "name": "ipython",
    "version": 3
   },
   "file_extension": ".py",
   "mimetype": "text/x-python",
   "name": "python",
   "nbconvert_exporter": "python",
   "pygments_lexer": "ipython3",
   "version": "3.11.5"
  }
 },
 "nbformat": 4,
 "nbformat_minor": 1
}
